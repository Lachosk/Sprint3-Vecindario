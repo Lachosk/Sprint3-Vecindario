{
 "cells": [
  {
   "cell_type": "code",
   "execution_count": 1,
   "id": "6d48b701",
   "metadata": {},
   "outputs": [
    {
     "name": "stdout",
     "output_type": "stream",
     "text": [
      "Hola\n"
     ]
    }
   ],
   "source": [
    "print(\"Hola\")"
   ]
  },
  {
   "cell_type": "code",
   "execution_count": 2,
   "id": "72cb2d8b",
   "metadata": {},
   "outputs": [],
   "source": [
    "import pandas as pd\n",
    "import numpy as np\n",
    "import matplotlib.pyplot as plt\n",
    "from sklearn.feature_extraction.text import TfidfVectorizer\n",
    "from sklearn.neighbors import NearestNeighbors\n",
    "from sklearn.metrics.pairwise import cosine_similarity\n",
    "from ipywidgets import interact, widgets"
   ]
  },
  {
   "cell_type": "code",
   "execution_count": 3,
   "id": "20978c62",
   "metadata": {},
   "outputs": [],
   "source": [
    "data = pd.read_csv(\"Base De Datos Pizza (Respuestas).csv\")"
   ]
  },
  {
   "cell_type": "code",
   "execution_count": 4,
   "id": "d0c9693e",
   "metadata": {
    "scrolled": true
   },
   "outputs": [
    {
     "data": {
      "application/vnd.jupyter.widget-view+json": {
       "model_id": "47ba36bc856e40449b5e72ba8bff3ae2",
       "version_major": 2,
       "version_minor": 0
      },
      "text/plain": [
       "VBox(children=(Dropdown(description='Select a person:', options=('Tatiana Campos', 'juan agredo', 'Andrea Torr…"
      ]
     },
     "metadata": {},
     "output_type": "display_data"
    }
   ],
   "source": [
    "columnas_sabores = ['Carne Molida', 'Chorizo', 'Jamón', 'Pepperoni', 'Pollo', 'Salami', 'Tocineta', 'Aceituna', 'Cebolla', 'Champiñón', 'Ciruela']\n",
    "\n",
    "# Combinar los sabores de las columnas en una sola columna\n",
    "sabores = data[columnas_sabores].apply(lambda x: ' '.join(x.astype(str)), axis=1)\n",
    "\n",
    "# Crear un vectorizador TF-IDF con sublinear_tf=True para obtener valores continuos\n",
    "vectorizer = TfidfVectorizer(sublinear_tf=True, token_pattern=r'\\b[1-9][0-9]?\\b')\n",
    "\n",
    "# Transformar los sabores en una matriz TF-IDF\n",
    "tfidf_matrix = vectorizer.fit_transform(sabores)\n",
    "\n",
    "# Calcular la similitud de coseno entre los sabores de pizza\n",
    "similarity_matrix = cosine_similarity(tfidf_matrix)\n",
    "\n",
    "# Obtener los nombres de las personas\n",
    "nombres = data['Nombre']\n",
    "\n",
    "k = 3  # Ajusta el número de vecinos que deseas obtener\n",
    "\n",
    "# Inicializar el modelo de búsqueda de vecinos más cercanos\n",
    "model = NearestNeighbors(n_neighbors=k, metric='precomputed')\n",
    "\n",
    "# Ajustar el modelo utilizando la matriz de similitud\n",
    "model.fit(similarity_matrix)\n",
    "\n",
    "# Encontrar los k vecinos más cercanos para cada punto\n",
    "distances, indices = model.kneighbors(similarity_matrix)\n",
    "\n",
    "def generate_graph(person_name):\n",
    "    # Find the index of the person in the 'Nombre' column\n",
    "    person_index = data[data['Nombre'] == person_name].index[0]\n",
    "\n",
    "    # Get the neighbors for the person of interest\n",
    "    person_neighbors = [(nombres[idx], distances[person_index][j]) for j, idx in enumerate(indices[person_index])]\n",
    "    person_neighbors.sort(key=lambda x: x[1])  # Sort by ascending similarity\n",
    "\n",
    "    print(f\"Neighbors of {person_name}:\")\n",
    "    for neighbor in person_neighbors:\n",
    "        print(f\"Neighbor: {neighbor[0]}, Similarity: {neighbor[1]}\")\n",
    "\n",
    "    # Create a bar plot to visualize the similarities of the neighbors\n",
    "    plt.figure()\n",
    "    plt.bar(range(len(person_neighbors)), [d[1] for d in person_neighbors])\n",
    "    plt.xticks(range(len(person_neighbors)), [d[0] for d in person_neighbors], rotation=45)\n",
    "    plt.xlabel('Neighbor')\n",
    "    plt.ylabel('Similarity')\n",
    "    plt.title(f\"Neighbors of {person_name}\")\n",
    "    plt.show()\n",
    "\n",
    "def on_button_clicked(b):\n",
    "    person_name = dropdown.value\n",
    "    generate_graph(person_name)\n",
    "\n",
    "dropdown = widgets.Dropdown(options=nombres, description='Select a person:')\n",
    "button = widgets.Button(description='Enter')\n",
    "\n",
    "button.on_click(on_button_clicked)\n",
    "\n",
    "widgets.VBox([dropdown, button])"
   ]
  }
 ],
 "metadata": {
  "kernelspec": {
   "display_name": "Python 3 (ipykernel)",
   "language": "python",
   "name": "python3"
  },
  "language_info": {
   "codemirror_mode": {
    "name": "ipython",
    "version": 3
   },
   "file_extension": ".py",
   "mimetype": "text/x-python",
   "name": "python",
   "nbconvert_exporter": "python",
   "pygments_lexer": "ipython3",
   "version": "3.9.13"
  }
 },
 "nbformat": 4,
 "nbformat_minor": 5
}
